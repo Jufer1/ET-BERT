{
 "cells": [
  {
   "cell_type": "code",
   "execution_count": 1,
   "metadata": {},
   "outputs": [],
   "source": [
    "import pickle"
   ]
  },
  {
   "cell_type": "code",
   "execution_count": 3,
   "metadata": {},
   "outputs": [
    {
     "name": "stdout",
     "output_type": "stream",
     "text": [
      "Number of Python objects: 64772728\n"
     ]
    }
   ],
   "source": [
    "# dataset_path = \"dataset_v1.pt\" # 371_4285\n",
    "dataset_path = \"..\\\\origin-datasets-pretrain\\\\dataset.pt\" # 6477 2728\n",
    "\n",
    "dataset_reader = open(dataset_path, \"rb\")\n",
    "\n",
    "count = 0\n",
    "while True:\n",
    "    try:\n",
    "        instance = pickle.load(dataset_reader)\n",
    "        count += 1\n",
    "    except EOFError:\n",
    "        break\n",
    "\n",
    "print(\"Number of Python objects:\", count)"
   ]
  }
 ],
 "metadata": {
  "kernelspec": {
   "display_name": "pytorch",
   "language": "python",
   "name": "python3"
  },
  "language_info": {
   "codemirror_mode": {
    "name": "ipython",
    "version": 3
   },
   "file_extension": ".py",
   "mimetype": "text/x-python",
   "name": "python",
   "nbconvert_exporter": "python",
   "pygments_lexer": "ipython3",
   "version": "3.11.9"
  }
 },
 "nbformat": 4,
 "nbformat_minor": 2
}
